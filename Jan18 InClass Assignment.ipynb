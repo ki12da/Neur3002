{
 "cells": [
  {
   "cell_type": "markdown",
   "id": "aef9af27",
   "metadata": {},
   "source": [
    "# In Class Assignment Jan 18 2024\n",
    "\n",
    "**Group #6** : *Daniel, Jifei, Lekha, Logan, Madeline*\n",
    "\n",
    "Define and Compare/Contrast: Temporal/Rate/Latency/Synchronous/Tuning Curves/Population Codes\n",
    "* Temporal Coding involves showing timing of independent spikes or the first of a burst.\n",
    "* Rate Coding involves showing the timing of all the spikes present. \n",
    "* Latency Coding involves showing the timing of when the output was recieved. \n",
    "* Synchronous coding involves showing when the spikes of different trials align with each other.\n",
    "* Tuning curves are a graphical presentation that displays the firing rate of a neuron when displayed with different verisons of a stimulus, such as an orientation of an object.\n",
    "* Population codes are the collective summation of information about a stimulus, such as when different neurons are percieving a line. Multiple neurons will collect different information about the stimulus, and then the sum is the actual perception that is recieved by the brain or information organizing center.  \n"
   ]
  },
  {
   "cell_type": "markdown",
   "id": "a889fda7",
   "metadata": {},
   "source": []
  }
 ],
 "metadata": {
  "kernelspec": {
   "display_name": "Python 3 (ipykernel)",
   "language": "python",
   "name": "python3"
  },
  "language_info": {
   "codemirror_mode": {
    "name": "ipython",
    "version": 3
   },
   "file_extension": ".py",
   "mimetype": "text/x-python",
   "name": "python",
   "nbconvert_exporter": "python",
   "pygments_lexer": "ipython3",
   "version": "3.11.5"
  }
 },
 "nbformat": 4,
 "nbformat_minor": 5
}
